{
 "cells": [
  {
   "cell_type": "markdown",
   "id": "e4dd2dc2-30c8-421f-acc2-baaafe58a389",
   "metadata": {},
   "source": [
    "# Scraping Trustpilot"
   ]
  },
  {
   "cell_type": "markdown",
   "id": "96f7ddaa-f497-4fc6-8fa2-39e5e9784f9f",
   "metadata": {},
   "source": [
    "## Imports"
   ]
  },
  {
   "cell_type": "markdown",
   "id": "3abf9cf7-a843-48f6-a18e-111fb4854b5e",
   "metadata": {
    "jp-MarkdownHeadingCollapsed": true,
    "tags": []
   },
   "source": [
    "### Packages"
   ]
  },
  {
   "cell_type": "code",
   "execution_count": 1,
   "id": "89638708-593e-42a6-9c19-ba2458b03402",
   "metadata": {
    "tags": []
   },
   "outputs": [],
   "source": [
    "import matplotlib.pyplot as plt\n",
    "import os\n",
    "import pandas as pd\n",
    "import re\n",
    "import requests\n",
    "import time\n",
    "\n",
    "from bs4 import BeautifulSoup\n",
    "from datetime import datetime\n",
    "from functools import partial\n",
    "from tqdm import tqdm"
   ]
  },
  {
   "cell_type": "markdown",
   "id": "9b22eda3-8c0f-4c06-b89b-ad9ed8fc3a6b",
   "metadata": {},
   "source": [
    "## Scraping"
   ]
  },
  {
   "cell_type": "markdown",
   "id": "361f4a85-4502-4dab-8cc6-2972a3e3dff2",
   "metadata": {},
   "source": [
    "### Variables globales"
   ]
  },
  {
   "cell_type": "code",
   "execution_count": 2,
   "id": "4932fbca-cf1e-4e24-afa6-c42c40afc519",
   "metadata": {
    "tags": []
   },
   "outputs": [],
   "source": [
    "url_trustpilot = 'https://fr.trustpilot.com/review/'"
   ]
  },
  {
   "cell_type": "code",
   "execution_count": 3,
   "id": "a7625b4e-3d17-4298-af07-1293dd8658a8",
   "metadata": {
    "tags": []
   },
   "outputs": [],
   "source": [
    "headers = {\n",
    "    'User-Agent': 'Antoine Palazzolo - INSEE - Collect data to organize a code exercise',\n",
    "    'From': 'antoine.palazzolo@insee.fr'\n",
    "}"
   ]
  },
  {
   "cell_type": "code",
   "execution_count": 4,
   "id": "19523448-01d3-46d7-ba99-152a7745e87f",
   "metadata": {
    "tags": []
   },
   "outputs": [],
   "source": [
    "target_companies = ['hellofresh.fr',\n",
    "                    'auroremarket.fr',\n",
    "                    'smartfooding.com',\n",
    "                    'foodette.fr',\n",
    "                    'ollca.com',\n",
    "                    'deligreens.com',\n",
    "                    'kitchentrotter.com']"
   ]
  },
  {
   "cell_type": "code",
   "execution_count": 5,
   "id": "2170d4d6-c4f6-4e35-a4f8-9b61f585c193",
   "metadata": {
    "tags": []
   },
   "outputs": [],
   "source": [
    "do_scraping = True  # True pour refaire tourner le scraping, False pour importer la dernière version depuis s3"
   ]
  },
  {
   "cell_type": "markdown",
   "id": "cd9fb8d1-34e4-4111-919d-defc4b63ea1b",
   "metadata": {},
   "source": [
    "### Fonctions"
   ]
  },
  {
   "cell_type": "markdown",
   "id": "819d8998-159d-41cb-a84b-e0af1db26a5e",
   "metadata": {
    "jp-MarkdownHeadingCollapsed": true,
    "tags": []
   },
   "source": [
    "#### Scraping one review"
   ]
  },
  {
   "cell_type": "code",
   "execution_count": 6,
   "id": "747e3a77-31f6-4db7-9fb4-c995266ab8a4",
   "metadata": {
    "tags": []
   },
   "outputs": [],
   "source": [
    "def get_note_review(review):\n",
    "    \n",
    "    try:\n",
    "        texte_note = review.find(\n",
    "            'div', {'class':'star-rating_starRating__4rrcf star-rating_medium__iN6Ty'}\n",
    "        ).find('img', alt=True)['alt']\n",
    "        note = int(texte_note[5])  # texte_note = \"Noté x étoiles sur 5\"\n",
    "        return note\n",
    "\n",
    "    except:\n",
    "        return \"Not found\""
   ]
  },
  {
   "cell_type": "code",
   "execution_count": 7,
   "id": "fdbf275b-44d2-4d36-909e-b384376f76b5",
   "metadata": {
    "tags": []
   },
   "outputs": [],
   "source": [
    "def get_time_review(review):\n",
    "    \n",
    "    try:\n",
    "        str_date = review.find(\n",
    "            'div', {'class':'typography_body-m__xgxZ_ typography_appearance-subtle__8_H2l styles_datesWrapper__RCEKH'}\n",
    "        ).find('time')['datetime']\n",
    "        date = datetime.strptime(str_date, \"%Y-%m-%dT%H:%M:%S.%fZ\")  # str_date = 'YYYY-MM-DDThh:mm:ss.000Z'\n",
    "        return date\n",
    "\n",
    "    except:\n",
    "        return \"Not found\""
   ]
  },
  {
   "cell_type": "code",
   "execution_count": 8,
   "id": "002580e5-b236-43d9-9b2c-971f6475fa44",
   "metadata": {
    "tags": []
   },
   "outputs": [],
   "source": [
    "def get_title_review(review):\n",
    "    \n",
    "    try:\n",
    "        title = review.find(\n",
    "            'h2', {'class':'typography_heading-s__f7029 typography_appearance-default__AAY17'}\n",
    "        ).text\n",
    "        return title\n",
    "\n",
    "    except:\n",
    "        return \"Not found\""
   ]
  },
  {
   "cell_type": "code",
   "execution_count": 9,
   "id": "21a1e46b-023a-43b2-923f-26448d3c66c7",
   "metadata": {},
   "outputs": [],
   "source": [
    "def get_comment_review(review):\n",
    "    \n",
    "    try:\n",
    "        text = review.find(\n",
    "            'p', {'class':'typography_body-l__KUYFJ typography_appearance-default__AAY17 typography_color-black__5LYEn'}\n",
    "        ).text # Les balises <br> sont supprimées, on va donc forcer des espaces après les points\n",
    "        text = re.sub(' +', ' ', text.replace('.', '. '))\n",
    "        return text\n",
    "\n",
    "    except:\n",
    "        return \"Not found\""
   ]
  },
  {
   "cell_type": "markdown",
   "id": "8984efa9-f9c3-46c1-9593-bdde71cf03b3",
   "metadata": {
    "jp-MarkdownHeadingCollapsed": true,
    "tags": []
   },
   "source": [
    "#### Scraping one company"
   ]
  },
  {
   "cell_type": "code",
   "execution_count": 10,
   "id": "0757dd31-e3d1-432a-98d9-5d23cd5f856e",
   "metadata": {},
   "outputs": [],
   "source": [
    "def get_nb_pages_reviews(url_company):\n",
    "\n",
    "    time.sleep(1)\n",
    "    request_text = requests.get(url_company, headers=headers).text\n",
    "    soup = BeautifulSoup(request_text, 'html.parser')\n",
    "\n",
    "    try:\n",
    "        boutons_pages = soup.find(\n",
    "            'div', {'class':'styles_pagination__6VmQv'}\n",
    "        ).find_all(\n",
    "            'span', {'class':'typography_heading-xxs__QKBS8 typography_appearance-inherit__D7XqR typography_disableResponsiveSizing__OuNP7'}\n",
    "        )\n",
    "        last_page = int(boutons_pages[-2].text)  # Dernier bouton = \"Page Suivante\"\n",
    "        return last_page\n",
    "\n",
    "    except:\n",
    "        return 0"
   ]
  },
  {
   "cell_type": "code",
   "execution_count": 11,
   "id": "76102dea-175b-4651-878c-a6c7a461ef2e",
   "metadata": {},
   "outputs": [],
   "source": [
    "def scraping_one_company(company, limit_pages=False):\n",
    "\n",
    "    print(company)\n",
    "    url_company = url_trustpilot+company\n",
    "    nb_pages = get_nb_pages_reviews(url_company)\n",
    "    if limit_pages and nb_pages > 2:\n",
    "        nb_pages = 2\n",
    "    notes, times, titles, comments = [], [], [], []\n",
    "\n",
    "    for page in tqdm(range(1, nb_pages+1)):\n",
    "\n",
    "        time.sleep(1)\n",
    "        url_page = url_company + '?page=' + str(page)\n",
    "        \n",
    "        try:\n",
    "            request_text = requests.get(url_page, headers=headers).text\n",
    "            soup = BeautifulSoup(request_text, 'html.parser')\n",
    "            reviews = soup.find_all(\n",
    "                'div', {'class':'styles_cardWrapper__LcCPA styles_show__HUXRb styles_reviewCard__9HxJJ'}\n",
    "            )\n",
    "        except:\n",
    "            reviews = []\n",
    "\n",
    "        notes.extend(list(map(get_note_review, reviews)))\n",
    "        times.extend(list(map(get_time_review, reviews)))\n",
    "        titles.extend(list(map(get_title_review, reviews)))\n",
    "        comments.extend(list(map(get_comment_review, reviews)))\n",
    "\n",
    "    df_reviews = pd.DataFrame({\n",
    "        'note': notes,\n",
    "        'date': times,\n",
    "        'title': titles,\n",
    "        'comment': comments\n",
    "    })\n",
    "\n",
    "    return df_reviews\n"
   ]
  },
  {
   "cell_type": "markdown",
   "id": "f8738c88-68cf-41c5-b189-2273d3a8f5bc",
   "metadata": {
    "jp-MarkdownHeadingCollapsed": true,
    "tags": []
   },
   "source": [
    "#### Scraping all companies"
   ]
  },
  {
   "cell_type": "code",
   "execution_count": 12,
   "id": "30457379-06a7-4743-9c43-ccee784275a6",
   "metadata": {
    "tags": []
   },
   "outputs": [],
   "source": [
    "def scraping_all_companies(companies_list=target_companies,\n",
    "                           limit_pages=False):\n",
    "\n",
    "    reviews_companies = list(map(\n",
    "        partial(scraping_one_company, limit_pages=limit_pages),\n",
    "                companies_list\n",
    "    ))\n",
    "    n = len(companies_list)\n",
    "    for i in range(n):\n",
    "        reviews_companies[i]['company'] = companies_list[i]\n",
    "    df_all_reviews = pd.concat(reviews_companies)\n",
    "    \n",
    "    return df_all_reviews"
   ]
  },
  {
   "cell_type": "markdown",
   "id": "a336eb30-4ac1-4f9b-9993-9c9fa2a66bc3",
   "metadata": {},
   "source": [
    "### Mise en pratique"
   ]
  },
  {
   "cell_type": "code",
   "execution_count": 13,
   "id": "d3dc9ea1-6192-4169-9456-9314fd863360",
   "metadata": {},
   "outputs": [
    {
     "name": "stdout",
     "output_type": "stream",
     "text": [
      "hellofresh.fr\n"
     ]
    },
    {
     "name": "stderr",
     "output_type": "stream",
     "text": [
      "100%|██████████| 545/545 [13:43<00:00,  1.51s/it]\n"
     ]
    },
    {
     "name": "stdout",
     "output_type": "stream",
     "text": [
      "auroremarket.fr\n"
     ]
    },
    {
     "name": "stderr",
     "output_type": "stream",
     "text": [
      "100%|██████████| 315/315 [07:54<00:00,  1.51s/it]\n"
     ]
    },
    {
     "name": "stdout",
     "output_type": "stream",
     "text": [
      "smartfooding.com\n"
     ]
    },
    {
     "name": "stderr",
     "output_type": "stream",
     "text": [
      "100%|██████████| 35/35 [00:53<00:00,  1.52s/it]\n"
     ]
    },
    {
     "name": "stdout",
     "output_type": "stream",
     "text": [
      "foodette.fr\n"
     ]
    },
    {
     "name": "stderr",
     "output_type": "stream",
     "text": [
      "100%|██████████| 41/41 [01:03<00:00,  1.56s/it]\n"
     ]
    },
    {
     "name": "stdout",
     "output_type": "stream",
     "text": [
      "ollca.com\n"
     ]
    },
    {
     "name": "stderr",
     "output_type": "stream",
     "text": [
      "100%|██████████| 35/35 [00:50<00:00,  1.44s/it]\n"
     ]
    },
    {
     "name": "stdout",
     "output_type": "stream",
     "text": [
      "deligreens.com\n"
     ]
    },
    {
     "name": "stderr",
     "output_type": "stream",
     "text": [
      "100%|██████████| 34/34 [00:48<00:00,  1.43s/it]\n"
     ]
    },
    {
     "name": "stdout",
     "output_type": "stream",
     "text": [
      "kitchentrotter.com\n"
     ]
    },
    {
     "name": "stderr",
     "output_type": "stream",
     "text": [
      "100%|██████████| 20/20 [00:30<00:00,  1.52s/it]\n"
     ]
    }
   ],
   "source": [
    "if do_scraping:\n",
    "    df_all_reviews = scraping_all_companies(\n",
    "        # limit_pages=True\n",
    "    )\n",
    "else:\n",
    "    os.system(f\"mc cp s3/projet-funathon/2023/sujet5/reviews_takeaway.parquet reviews_takeaway.parquet\")\n",
    "    df_all_reviews = pd.read_parquet(\"reviews_takeaway.parquet\")"
   ]
  },
  {
   "cell_type": "code",
   "execution_count": 14,
   "id": "695e583e-4df0-4fee-9f01-0665c4f618dc",
   "metadata": {
    "tags": []
   },
   "outputs": [
    {
     "name": "stdout",
     "output_type": "stream",
     "text": [
      "20438 avis réunis\n"
     ]
    },
    {
     "data": {
      "text/html": [
       "<div>\n",
       "<style scoped>\n",
       "    .dataframe tbody tr th:only-of-type {\n",
       "        vertical-align: middle;\n",
       "    }\n",
       "\n",
       "    .dataframe tbody tr th {\n",
       "        vertical-align: top;\n",
       "    }\n",
       "\n",
       "    .dataframe thead th {\n",
       "        text-align: right;\n",
       "    }\n",
       "</style>\n",
       "<table border=\"1\" class=\"dataframe\">\n",
       "  <thead>\n",
       "    <tr style=\"text-align: right;\">\n",
       "      <th></th>\n",
       "      <th>note</th>\n",
       "      <th>date</th>\n",
       "      <th>title</th>\n",
       "      <th>comment</th>\n",
       "      <th>company</th>\n",
       "    </tr>\n",
       "  </thead>\n",
       "  <tbody>\n",
       "    <tr>\n",
       "      <th>0</th>\n",
       "      <td>3</td>\n",
       "      <td>2023-05-16 14:07:58</td>\n",
       "      <td>Des produits manquants pour une…</td>\n",
       "      <td>Des produits manquants pour une recette, conta...</td>\n",
       "      <td>hellofresh.fr</td>\n",
       "    </tr>\n",
       "    <tr>\n",
       "      <th>1</th>\n",
       "      <td>5</td>\n",
       "      <td>2023-05-16 13:08:14</td>\n",
       "      <td>Facile et pratique</td>\n",
       "      <td>Les box hellofresh nous facilitent le quotidie...</td>\n",
       "      <td>hellofresh.fr</td>\n",
       "    </tr>\n",
       "    <tr>\n",
       "      <th>2</th>\n",
       "      <td>4</td>\n",
       "      <td>2023-05-14 20:08:49</td>\n",
       "      <td>Super idée recettes délicieuses.</td>\n",
       "      <td>Super idée recettes délicieuses. Tous les ingr...</td>\n",
       "      <td>hellofresh.fr</td>\n",
       "    </tr>\n",
       "    <tr>\n",
       "      <th>3</th>\n",
       "      <td>1</td>\n",
       "      <td>2023-05-16 19:33:36</td>\n",
       "      <td>Service de livraison incompétent !</td>\n",
       "      <td>Jusqu’à présent satisfait de la marque, mais u...</td>\n",
       "      <td>hellofresh.fr</td>\n",
       "    </tr>\n",
       "    <tr>\n",
       "      <th>4</th>\n",
       "      <td>1</td>\n",
       "      <td>2023-05-15 17:02:04</td>\n",
       "      <td>Expérience d'achat inacceptable</td>\n",
       "      <td>Expérience d'achat inacceptable. Une chaîne du...</td>\n",
       "      <td>hellofresh.fr</td>\n",
       "    </tr>\n",
       "  </tbody>\n",
       "</table>\n",
       "</div>"
      ],
      "text/plain": [
       "   note                date                               title   \n",
       "0     3 2023-05-16 14:07:58    Des produits manquants pour une…  \\\n",
       "1     5 2023-05-16 13:08:14                  Facile et pratique   \n",
       "2     4 2023-05-14 20:08:49    Super idée recettes délicieuses.   \n",
       "3     1 2023-05-16 19:33:36  Service de livraison incompétent !   \n",
       "4     1 2023-05-15 17:02:04     Expérience d'achat inacceptable   \n",
       "\n",
       "                                             comment        company  \n",
       "0  Des produits manquants pour une recette, conta...  hellofresh.fr  \n",
       "1  Les box hellofresh nous facilitent le quotidie...  hellofresh.fr  \n",
       "2  Super idée recettes délicieuses. Tous les ingr...  hellofresh.fr  \n",
       "3  Jusqu’à présent satisfait de la marque, mais u...  hellofresh.fr  \n",
       "4  Expérience d'achat inacceptable. Une chaîne du...  hellofresh.fr  "
      ]
     },
     "execution_count": 14,
     "metadata": {},
     "output_type": "execute_result"
    }
   ],
   "source": [
    "print(f'{len(df_all_reviews)} avis réunis')\n",
    "\n",
    "df_all_reviews.head()"
   ]
  },
  {
   "cell_type": "code",
   "execution_count": 19,
   "id": "8e871b12-dca1-418e-bf1c-28a105e8f00f",
   "metadata": {
    "tags": []
   },
   "outputs": [
    {
     "data": {
      "text/html": [
       "<div>\n",
       "<style scoped>\n",
       "    .dataframe tbody tr th:only-of-type {\n",
       "        vertical-align: middle;\n",
       "    }\n",
       "\n",
       "    .dataframe tbody tr th {\n",
       "        vertical-align: top;\n",
       "    }\n",
       "\n",
       "    .dataframe thead th {\n",
       "        text-align: right;\n",
       "    }\n",
       "</style>\n",
       "<table border=\"1\" class=\"dataframe\">\n",
       "  <thead>\n",
       "    <tr style=\"text-align: right;\">\n",
       "      <th></th>\n",
       "      <th>note</th>\n",
       "      <th>date</th>\n",
       "      <th>title</th>\n",
       "      <th>comment</th>\n",
       "      <th>company</th>\n",
       "    </tr>\n",
       "  </thead>\n",
       "  <tbody>\n",
       "    <tr>\n",
       "      <th>176</th>\n",
       "      <td>5</td>\n",
       "      <td>2023-05-16 13:57:25</td>\n",
       "      <td>Je recommande c'est top</td>\n",
       "      <td>Not found</td>\n",
       "      <td>hellofresh.fr</td>\n",
       "    </tr>\n",
       "    <tr>\n",
       "      <th>180</th>\n",
       "      <td>1</td>\n",
       "      <td>2023-05-13 11:01:50</td>\n",
       "      <td>Colis toujours pas livré</td>\n",
       "      <td>Not found</td>\n",
       "      <td>hellofresh.fr</td>\n",
       "    </tr>\n",
       "    <tr>\n",
       "      <th>189</th>\n",
       "      <td>3</td>\n",
       "      <td>2023-05-09 00:03:41</td>\n",
       "      <td>Quantité beaucoup trop peu</td>\n",
       "      <td>Not found</td>\n",
       "      <td>hellofresh.fr</td>\n",
       "    </tr>\n",
       "    <tr>\n",
       "      <th>192</th>\n",
       "      <td>5</td>\n",
       "      <td>2023-05-10 11:07:27</td>\n",
       "      <td>Parfait nous adorons le concept</td>\n",
       "      <td>Not found</td>\n",
       "      <td>hellofresh.fr</td>\n",
       "    </tr>\n",
       "    <tr>\n",
       "      <th>194</th>\n",
       "      <td>5</td>\n",
       "      <td>2023-05-10 10:44:19</td>\n",
       "      <td>Très bonne recette et facile</td>\n",
       "      <td>Not found</td>\n",
       "      <td>hellofresh.fr</td>\n",
       "    </tr>\n",
       "    <tr>\n",
       "      <th>...</th>\n",
       "      <td>...</td>\n",
       "      <td>...</td>\n",
       "      <td>...</td>\n",
       "      <td>...</td>\n",
       "      <td>...</td>\n",
       "    </tr>\n",
       "    <tr>\n",
       "      <th>197</th>\n",
       "      <td>1</td>\n",
       "      <td>2023-01-10 11:42:23</td>\n",
       "      <td>grosse Arnaque</td>\n",
       "      <td>Not found</td>\n",
       "      <td>kitchentrotter.com</td>\n",
       "    </tr>\n",
       "    <tr>\n",
       "      <th>198</th>\n",
       "      <td>1</td>\n",
       "      <td>2020-04-01 08:20:29</td>\n",
       "      <td>Une bande d'escrocs via cdiscount !!!</td>\n",
       "      <td>Not found</td>\n",
       "      <td>kitchentrotter.com</td>\n",
       "    </tr>\n",
       "    <tr>\n",
       "      <th>199</th>\n",
       "      <td>1</td>\n",
       "      <td>2021-03-02 10:58:32</td>\n",
       "      <td>je porte plainte !!!!</td>\n",
       "      <td>Not found</td>\n",
       "      <td>kitchentrotter.com</td>\n",
       "    </tr>\n",
       "    <tr>\n",
       "      <th>308</th>\n",
       "      <td>1</td>\n",
       "      <td>2019-04-12 13:51:56</td>\n",
       "      <td>Je ne me suis jamais inscrite!!!</td>\n",
       "      <td>Not found</td>\n",
       "      <td>kitchentrotter.com</td>\n",
       "    </tr>\n",
       "    <tr>\n",
       "      <th>373</th>\n",
       "      <td>1</td>\n",
       "      <td>2017-12-11 09:02:29</td>\n",
       "      <td>pareil arnaque 178 euros de perdus</td>\n",
       "      <td>Not found</td>\n",
       "      <td>kitchentrotter.com</td>\n",
       "    </tr>\n",
       "  </tbody>\n",
       "</table>\n",
       "<p>1439 rows × 5 columns</p>\n",
       "</div>"
      ],
      "text/plain": [
       "     note                date                                  title   \n",
       "176     5 2023-05-16 13:57:25                Je recommande c'est top  \\\n",
       "180     1 2023-05-13 11:01:50               Colis toujours pas livré   \n",
       "189     3 2023-05-09 00:03:41             Quantité beaucoup trop peu   \n",
       "192     5 2023-05-10 11:07:27        Parfait nous adorons le concept   \n",
       "194     5 2023-05-10 10:44:19           Très bonne recette et facile   \n",
       "..    ...                 ...                                    ...   \n",
       "197     1 2023-01-10 11:42:23                         grosse Arnaque   \n",
       "198     1 2020-04-01 08:20:29  Une bande d'escrocs via cdiscount !!!   \n",
       "199     1 2021-03-02 10:58:32                  je porte plainte !!!!   \n",
       "308     1 2019-04-12 13:51:56       Je ne me suis jamais inscrite!!!   \n",
       "373     1 2017-12-11 09:02:29     pareil arnaque 178 euros de perdus   \n",
       "\n",
       "       comment             company  \n",
       "176  Not found       hellofresh.fr  \n",
       "180  Not found       hellofresh.fr  \n",
       "189  Not found       hellofresh.fr  \n",
       "192  Not found       hellofresh.fr  \n",
       "194  Not found       hellofresh.fr  \n",
       "..         ...                 ...  \n",
       "197  Not found  kitchentrotter.com  \n",
       "198  Not found  kitchentrotter.com  \n",
       "199  Not found  kitchentrotter.com  \n",
       "308  Not found  kitchentrotter.com  \n",
       "373  Not found  kitchentrotter.com  \n",
       "\n",
       "[1439 rows x 5 columns]"
      ]
     },
     "execution_count": 19,
     "metadata": {},
     "output_type": "execute_result"
    }
   ],
   "source": [
    "df_problemes = df_all_reviews[df_all_reviews.apply(lambda row: row.str.contains('Not found').any(), axis=1)]\n",
    "df_problemes"
   ]
  },
  {
   "cell_type": "code",
   "execution_count": 22,
   "id": "70390e8d-2f4d-4906-b604-1a4e1171550f",
   "metadata": {
    "tags": []
   },
   "outputs": [
    {
     "data": {
      "text/html": [
       "<div>\n",
       "<style scoped>\n",
       "    .dataframe tbody tr th:only-of-type {\n",
       "        vertical-align: middle;\n",
       "    }\n",
       "\n",
       "    .dataframe tbody tr th {\n",
       "        vertical-align: top;\n",
       "    }\n",
       "\n",
       "    .dataframe thead th {\n",
       "        text-align: right;\n",
       "    }\n",
       "</style>\n",
       "<table border=\"1\" class=\"dataframe\">\n",
       "  <thead>\n",
       "    <tr style=\"text-align: right;\">\n",
       "      <th></th>\n",
       "      <th>note</th>\n",
       "      <th>date</th>\n",
       "      <th>title</th>\n",
       "      <th>comment</th>\n",
       "      <th>company</th>\n",
       "    </tr>\n",
       "  </thead>\n",
       "  <tbody>\n",
       "  </tbody>\n",
       "</table>\n",
       "</div>"
      ],
      "text/plain": [
       "Empty DataFrame\n",
       "Columns: [note, date, title, comment, company]\n",
       "Index: []"
      ]
     },
     "execution_count": 22,
     "metadata": {},
     "output_type": "execute_result"
    }
   ],
   "source": [
    "df_problemes[df_problemes['comment'] != \"Not found\"]"
   ]
  },
  {
   "cell_type": "code",
   "execution_count": 15,
   "id": "41109dda-b0d4-4803-b58e-e48b2422c72d",
   "metadata": {
    "tags": []
   },
   "outputs": [],
   "source": [
    "df_all_reviews.to_parquet(\"reviews_takeaway.parquet\", index=False)"
   ]
  },
  {
   "cell_type": "code",
   "execution_count": 16,
   "id": "7cd8b4d4-f9d8-4467-8dc6-bf9641db9ba8",
   "metadata": {
    "tags": []
   },
   "outputs": [
    {
     "name": "stdout",
     "output_type": "stream",
     "text": [
      "`/home/onyxia/work/funathon2023_sujet5/reviews_takeaway.parquet` -> `s3/projet-funathon/2023/sujet5/reviews_takeaway.parquet`\n",
      "Total: 0 B, Transferred: 2.77 MiB, Speed: 4.45 MiB/s\n"
     ]
    },
    {
     "data": {
      "text/plain": [
       "0"
      ]
     },
     "execution_count": 16,
     "metadata": {},
     "output_type": "execute_result"
    }
   ],
   "source": [
    "os.system(f\"mc cp reviews_takeaway.parquet s3/projet-funathon/2023/sujet5/reviews_takeaway.parquet\")"
   ]
  },
  {
   "cell_type": "markdown",
   "id": "d124c576-3cc0-41b8-9785-d93579881afc",
   "metadata": {},
   "source": [
    "## Utilisation des avis"
   ]
  },
  {
   "cell_type": "code",
   "execution_count": 17,
   "id": "05194c1c-e061-476d-8b97-3e539eeeb5a3",
   "metadata": {
    "tags": []
   },
   "outputs": [
    {
     "data": {
      "text/plain": [
       "(array([ 1764.,     0.,   710.,     0.,     0.,  1780.,     0.,  4830.,\n",
       "            0., 11354.]),\n",
       " array([1. , 1.4, 1.8, 2.2, 2.6, 3. , 3.4, 3.8, 4.2, 4.6, 5. ]),\n",
       " <BarContainer object of 10 artists>)"
      ]
     },
     "execution_count": 17,
     "metadata": {},
     "output_type": "execute_result"
    },
    {
     "data": {
      "image/png": "[encoded data removed]",
      "text/plain": [
       "<Figure size 640x480 with 1 Axes>"
      ]
     },
     "metadata": {},
     "output_type": "display_data"
    }
   ],
   "source": [
    "plt.hist(df_all_reviews['note'])"
   ]
  },
  {
   "cell_type": "code",
   "execution_count": 18,
   "id": "57b8717d-17d0-481e-b0ac-b082264fd909",
   "metadata": {
    "tags": []
   },
   "outputs": [
    {
     "data": {
      "image/png": "[encoded data removed]",
      "text/plain": [
       "<Figure size 1200x500 with 7 Axes>"
      ]
     },
     "metadata": {},
     "output_type": "display_data"
    }
   ],
   "source": [
    "df_all_reviews_by_company = df_all_reviews.groupby('company')['note'].apply(list)\n",
    "\n",
    "# Créer une grille de sous-graphiques\n",
    "n_companies = len(df_all_reviews_by_company)\n",
    "fig, axes = plt.subplots(nrows=1, ncols=n_companies, figsize=(12, 5))\n",
    "\n",
    "# Parcourir les données et créer un histogramme pour chaque entreprise sur un sous-graphique distinct\n",
    "for i, (company, notes) in enumerate(df_all_reviews_by_company.items()):\n",
    "    ax = axes[i]  # Sélectionner le sous-graphique correspondant\n",
    "    ax.hist(notes, bins=10, alpha=0.5)  # Créer l'histogramme\n",
    "    ax.set_xlabel('Notes')  # Définir l'étiquette de l'axe x pour le sous-graphique\n",
    "    ax.set_ylabel('Fréquence')  # Définir l'étiquette de l'axe y pour le sous-graphique\n",
    "    ax.set_title(company)  # Définir le titre du sous-graphique\n",
    "\n",
    "# Ajuster les espacements entre les sous-graphiques\n",
    "plt.tight_layout()\n",
    "\n",
    "# Afficher le graphique\n",
    "plt.show()"
   ]
  },
  {
   "cell_type": "code",
   "execution_count": null,
   "id": "f23c74c2-92f6-448e-9377-7e8db85524f2",
   "metadata": {},
   "outputs": [],
   "source": []
  }
 ],
 "metadata": {
  "kernelspec": {
   "display_name": "Python 3 (ipykernel)",
   "language": "python",
   "name": "python3"
  },
  "language_info": {
   "codemirror_mode": {
    "name": "ipython",
    "version": 3
   },
   "file_extension": ".py",
   "mimetype": "text/x-python",
   "name": "python",
   "nbconvert_exporter": "python",
   "pygments_lexer": "ipython3",
   "version": "3.10.9"
  }
 },
 "nbformat": 4,
 "nbformat_minor": 5
}
